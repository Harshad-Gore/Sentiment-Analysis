{
 "cells": [
  {
   "cell_type": "code",
   "execution_count": null,
   "metadata": {},
   "outputs": [
    {
     "name": "stdout",
     "output_type": "stream",
     "text": [
      "Model Accuracy: 0.9258\n",
      "              precision    recall  f1-score   support\n",
      "\n",
      "          -1       0.91      0.83      0.87      7230\n",
      "           0       0.92      0.98      0.95     10961\n",
      "           1       0.94      0.94      0.94     14404\n",
      "\n",
      "    accuracy                           0.93     32595\n",
      "   macro avg       0.92      0.91      0.92     32595\n",
      "weighted avg       0.93      0.93      0.92     32595\n",
      "\n",
      "Model and vectorizer saved successfully!\n"
     ]
    }
   ],
   "source": [
    "import pandas as pd\n",
    "import pickle\n",
    "from sklearn.model_selection import train_test_split\n",
    "from sklearn.feature_extraction.text import TfidfVectorizer\n",
    "from sklearn.linear_model import LogisticRegression\n",
    "from sklearn.metrics import accuracy_score, classification_report\n",
    "\n",
    "df = pd.read_csv('Twitter_Data.csv')\n",
    "\n",
    "df = df.dropna(subset=['category'])\n",
    "\n",
    "df['category'] = df['category'].astype(int)\n",
    "texts = df['clean_text'].astype(str)\n",
    "labels = df['category']\n",
    "\n",
    "train_texts, test_texts, train_labels, test_labels = train_test_split(\n",
    "    texts, labels, test_size=0.2, random_state=42\n",
    ")\n",
    "\n",
    "vectorizer = TfidfVectorizer(max_features=5000)\n",
    "X_train = vectorizer.fit_transform(train_texts)\n",
    "X_test = vectorizer.transform(test_texts)\n",
    "\n",
    "model = LogisticRegression(max_iter=500)\n",
    "model.fit(X_train, train_labels)\n",
    "\n",
    "predictions = model.predict(X_test)\n",
    "accuracy = accuracy_score(test_labels, predictions)\n",
    "print(f\"Model Accuracy: {accuracy:.4f}\")\n",
    "print(classification_report(test_labels, predictions))\n",
    "\n",
    "with open(\"sentiment_model.pkl\", \"wb\") as f:\n",
    "    pickle.dump(model, f)\n",
    "with open(\"tfidf_vectorizer.pkl\", \"wb\") as f:\n",
    "    pickle.dump(vectorizer, f)\n",
    "\n",
    "print(\"Model and vectorizer saved successfully!\")"
   ]
  }
 ],
 "metadata": {
  "kernelspec": {
   "display_name": "Python 3",
   "language": "python",
   "name": "python3"
  },
  "language_info": {
   "codemirror_mode": {
    "name": "ipython",
    "version": 3
   },
   "file_extension": ".py",
   "mimetype": "text/x-python",
   "name": "python",
   "nbconvert_exporter": "python",
   "pygments_lexer": "ipython3",
   "version": "3.13.1"
  }
 },
 "nbformat": 4,
 "nbformat_minor": 2
}
